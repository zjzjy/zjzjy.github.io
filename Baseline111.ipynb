{
 "cells": [
  {
   "cell_type": "code",
   "execution_count": 1,
   "id": "4c4eb6f9-c641-4ed0-b4ff-549e5995f188",
   "metadata": {
    "execution": {
     "iopub.execute_input": "2025-07-07T07:48:59.715085Z",
     "iopub.status.busy": "2025-07-07T07:48:59.714873Z",
     "iopub.status.idle": "2025-07-07T07:49:04.261404Z",
     "shell.execute_reply": "2025-07-07T07:49:04.260884Z",
     "shell.execute_reply.started": "2025-07-07T07:48:59.715071Z"
    }
   },
   "outputs": [
    {
     "name": "stdout",
     "output_type": "stream",
     "text": [
      "Looking in indexes: https://mirrors.cloud.aliyuncs.com/pypi/simple\n",
      "Collecting lightgbm\n",
      "  Downloading https://mirrors.cloud.aliyuncs.com/pypi/packages/42/86/dabda8fbcb1b00bcfb0003c3776e8ade1aa7b413dff0a2c08f457dace22f/lightgbm-4.6.0-py3-none-manylinux_2_28_x86_64.whl (3.6 MB)\n",
      "\u001b[2K     \u001b[90m━━━━━━━━━━━━━━━━━━━━━━━━━━━━━━━━━━━━━━━━\u001b[0m \u001b[32m3.6/3.6 MB\u001b[0m \u001b[31m69.1 MB/s\u001b[0m eta \u001b[36m0:00:00\u001b[0ma \u001b[36m0:00:01\u001b[0m\n",
      "\u001b[?25hRequirement already satisfied: numpy>=1.17.0 in /usr/local/lib/python3.11/site-packages (from lightgbm) (1.26.4)\n",
      "Requirement already satisfied: scipy in /usr/local/lib/python3.11/site-packages (from lightgbm) (1.12.0)\n",
      "\u001b[33mDEPRECATION: pytorch-lightning 1.7.7 has a non-standard dependency specifier torch>=1.9.*. pip 24.0 will enforce this behaviour change. A possible replacement is to upgrade to a newer version of pytorch-lightning or contact the author to suggest that they release a version with a conforming dependency specifiers. Discussion can be found at https://github.com/pypa/pip/issues/12063\u001b[0m\u001b[33m\n",
      "\u001b[0mInstalling collected packages: lightgbm\n",
      "Successfully installed lightgbm-4.6.0\n",
      "\u001b[33mWARNING: Running pip as the 'root' user can result in broken permissions and conflicting behaviour with the system package manager. It is recommended to use a virtual environment instead: https://pip.pypa.io/warnings/venv\u001b[0m\u001b[33m\n",
      "\u001b[0m\n",
      "\u001b[1m[\u001b[0m\u001b[34;49mnotice\u001b[0m\u001b[1;39;49m]\u001b[0m\u001b[39;49m A new release of pip is available: \u001b[0m\u001b[31;49m23.3.2\u001b[0m\u001b[39;49m -> \u001b[0m\u001b[32;49m25.1.1\u001b[0m\n",
      "\u001b[1m[\u001b[0m\u001b[34;49mnotice\u001b[0m\u001b[1;39;49m]\u001b[0m\u001b[39;49m To update, run: \u001b[0m\u001b[32;49mpip install --upgrade pip\u001b[0m\n"
     ]
    }
   ],
   "source": [
    "!pip install lightgbm"
   ]
  },
  {
   "cell_type": "code",
   "execution_count": null,
   "id": "818bfa3a-c87e-4990-96d8-745291e61064",
   "metadata": {
    "execution": {
     "iopub.execute_input": "2025-07-07T07:49:04.262756Z",
     "iopub.status.busy": "2025-07-07T07:49:04.262469Z",
     "iopub.status.idle": "2025-07-07T07:49:05.439046Z",
     "shell.execute_reply": "2025-07-07T07:49:05.438542Z",
     "shell.execute_reply.started": "2025-07-07T07:49:04.262733Z"
    },
    "scrolled": true,
    "tags": []
   },
   "outputs": [],
   "source": [
    "import pandas as pd\n",
    "import numpy as np\n",
    "import json\n",
    "import lightgbm as lgb\n",
    "from sklearn.model_selection import StratifiedKFold\n",
    "from sklearn.metrics import f1_score\n",
    "from sklearn.preprocessing import LabelEncoder, StandardScaler\n",
    "import warnings\n",
    "warnings.filterwarnings('ignore')\n"
   ]
  },
  {
   "cell_type": "code",
   "execution_count": null,
   "id": "f15759c0",
   "metadata": {},
   "outputs": [],
   "source": []
  },
  {
   "cell_type": "code",
   "execution_count": null,
   "id": "2f5783a6",
   "metadata": {},
   "outputs": [],
   "source": []
  },
  {
   "cell_type": "code",
   "execution_count": 3,
   "id": "16ba47ba-b3fe-474b-aceb-0886694516a4",
   "metadata": {
    "ExecutionIndicator": {
     "show": false
    },
    "execution": {
     "iopub.execute_input": "2025-07-07T07:49:05.440024Z",
     "iopub.status.busy": "2025-07-07T07:49:05.439661Z",
     "iopub.status.idle": "2025-07-07T07:49:14.500888Z",
     "shell.execute_reply": "2025-07-07T07:49:14.500310Z",
     "shell.execute_reply.started": "2025-07-07T07:49:05.440007Z"
    },
    "tags": []
   },
   "outputs": [
    {
     "name": "stdout",
     "output_type": "stream",
     "text": [
      "CPU times: user 6.92 s, sys: 1.97 s, total: 8.89 s\n",
      "Wall time: 9.06 s\n"
     ]
    }
   ],
   "source": [
    "%%time\n",
    "# 1. 数据加载\n",
    "train_df = pd.read_csv('./train.csv')\n",
    "test_df = pd.read_csv('./testA_data.csv')\n",
    "submit = test_df[['did']]\n",
    "\n",
    "full_df = pd.concat([train_df, test_df], axis=0)\n",
    "\n",
    "# 2. 时间特征工程\n",
    "for df in [train_df, test_df, full_df]:\n",
    "    # 转换为时间戳\n",
    "    df['ts'] = pd.to_datetime(df['common_ts'], unit='ms')\n",
    "    \n",
    "    # 提取时间特征\n",
    "    df['day'] = df['ts'].dt.day\n",
    "    df['dayofweek'] = df['ts'].dt.dayofweek\n",
    "    df['hour'] = df['ts'].dt.hour\n",
    "    \n",
    "    # 删除原始时间列\n",
    "    df.drop(['ts'], axis=1, inplace=True)"
   ]
  },
  {
   "cell_type": "code",
   "execution_count": 4,
   "id": "f6949437-9ef0-4b4d-97ec-e8e38fad3d09",
   "metadata": {
    "execution": {
     "iopub.execute_input": "2025-07-07T07:49:14.501798Z",
     "iopub.status.busy": "2025-07-07T07:49:14.501517Z",
     "iopub.status.idle": "2025-07-07T07:49:15.773146Z",
     "shell.execute_reply": "2025-07-07T07:49:15.772514Z",
     "shell.execute_reply.started": "2025-07-07T07:49:14.501779Z"
    },
    "tags": []
   },
   "outputs": [
    {
     "name": "stdout",
     "output_type": "stream",
     "text": [
      "重叠 did 数量: 192393\n",
      "占 train 比例: 0.7104 (192393/270837)\n",
      "占 test 比例: 0.9324 (192393/206342)\n",
      "CPU times: user 1.25 s, sys: 15.8 ms, total: 1.27 s\n",
      "Wall time: 1.27 s\n"
     ]
    }
   ],
   "source": [
    "%%time\n",
    "############################### 简单分析\n",
    "# 获取 train 和 test 中唯一的 did\n",
    "train_dids = set(train_df['did'].unique())\n",
    "test_dids = set(test_df['did'].unique())\n",
    "\n",
    "# 计算交集\n",
    "overlap_dids = train_dids & test_dids\n",
    "\n",
    "# 数量统计\n",
    "num_overlap = len(overlap_dids)\n",
    "num_train = len(train_dids)\n",
    "num_test = len(test_dids)\n",
    "\n",
    "# 占比\n",
    "ratio_in_train = num_overlap / num_train if num_train > 0 else 0\n",
    "ratio_in_test = num_overlap / num_test if num_test > 0 else 0\n",
    "\n",
    "# 输出结果\n",
    "print(f\"重叠 did 数量: {num_overlap}\")\n",
    "print(f\"占 train 比例: {ratio_in_train:.4f} ({num_overlap}/{num_train})\")\n",
    "print(f\"占 test 比例: {ratio_in_test:.4f} ({num_overlap}/{num_test})\")"
   ]
  },
  {
   "cell_type": "code",
   "execution_count": null,
   "id": "6d47e439",
   "metadata": {},
   "outputs": [],
   "source": []
  },
  {
   "cell_type": "code",
   "execution_count": 5,
   "id": "baf134ea-e601-4556-9858-303f040d74ce",
   "metadata": {
    "execution": {
     "iopub.execute_input": "2025-07-07T07:49:15.773968Z",
     "iopub.status.busy": "2025-07-07T07:49:15.773759Z",
     "iopub.status.idle": "2025-07-07T07:49:35.171608Z",
     "shell.execute_reply": "2025-07-07T07:49:35.170982Z",
     "shell.execute_reply.started": "2025-07-07T07:49:15.773954Z"
    },
    "tags": []
   },
   "outputs": [
    {
     "name": "stdout",
     "output_type": "stream",
     "text": [
      "CPU times: user 17.4 s, sys: 1.95 s, total: 19.4 s\n",
      "Wall time: 19.4 s\n"
     ]
    }
   ],
   "source": [
    "%%time\n",
    "# 需要编码的特征列表\n",
    "cat_features = [\n",
    "    'device_brand', 'ntt', 'operator', 'common_country',\n",
    "    'common_province', 'common_city', 'appver', 'channel',\n",
    "    'os_type', 'udmap'\n",
    "]\n",
    "# 初始化编码器字典\n",
    "label_encoders = {}\n",
    "\n",
    "for feature in cat_features:\n",
    "    # 创建编码器，将类别特征转为0-N的自然数\n",
    "    le = LabelEncoder()\n",
    "    \n",
    "    # 合并训练集和测试集的所有类别\n",
    "    all_values = pd.concat([train_df[feature], test_df[feature]]).astype(str)\n",
    "    \n",
    "    # 训练编码器（使用所有可能值）\n",
    "    le.fit(all_values)\n",
    "    \n",
    "    # 保存编码器\n",
    "    label_encoders[feature] = le\n",
    "    \n",
    "    # 应用编码\n",
    "    train_df[feature] = le.transform(train_df[feature].astype(str))\n",
    "    test_df[feature] = le.transform(test_df[feature].astype(str))"
   ]
  },
  {
   "cell_type": "code",
   "execution_count": 6,
   "id": "d7bc120b-7fa4-45b5-8c56-097cddaa8bc9",
   "metadata": {
    "execution": {
     "iopub.execute_input": "2025-07-07T07:49:35.172916Z",
     "iopub.status.busy": "2025-07-07T07:49:35.172682Z",
     "iopub.status.idle": "2025-07-07T07:49:35.454105Z",
     "shell.execute_reply": "2025-07-07T07:49:35.453641Z",
     "shell.execute_reply.started": "2025-07-07T07:49:35.172898Z"
    },
    "tags": []
   },
   "outputs": [
    {
     "name": "stdout",
     "output_type": "stream",
     "text": [
      "CPU times: user 130 ms, sys: 149 ms, total: 279 ms\n",
      "Wall time: 277 ms\n"
     ]
    }
   ],
   "source": [
    "%%time\n",
    "# 基础特征 + 目标编码特征 + 聚合特征\n",
    "features = [\n",
    "    # 原始特征\n",
    "    'mid', 'eid', 'device_brand', 'ntt', 'operator', \n",
    "    'common_country', 'common_province', 'common_city',\n",
    "    'appver', 'channel', 'os_type', 'udmap',\n",
    "    # 时间特征\n",
    "    'hour', 'dayofweek', 'day', 'common_ts'\n",
    "]\n",
    "\n",
    "# 准备训练和测试数据\n",
    "X_train = train_df[features]\n",
    "y_train = train_df['is_new_did']\n",
    "X_test = test_df[features]"
   ]
  },
  {
   "cell_type": "code",
   "execution_count": 7,
   "id": "bb98dd6b-bece-4f83-988f-40787fc136c9",
   "metadata": {
    "ExecutionIndicator": {
     "show": true
    },
    "execution": {
     "iopub.execute_input": "2025-07-07T07:49:35.455001Z",
     "iopub.status.busy": "2025-07-07T07:49:35.454739Z",
     "iopub.status.idle": "2025-07-07T07:55:22.982003Z",
     "shell.execute_reply": "2025-07-07T07:55:22.981324Z",
     "shell.execute_reply.started": "2025-07-07T07:49:35.454983Z"
    },
    "tags": []
   },
   "outputs": [
    {
     "name": "stdout",
     "output_type": "stream",
     "text": [
      "\n",
      "开始模型训练...\n",
      "\n",
      "======= Fold 1/5 =======\n",
      "[100]\ttraining's binary_logloss: 0.320873\tvalid_1's binary_logloss: 0.321231\n",
      "[200]\ttraining's binary_logloss: 0.308853\tvalid_1's binary_logloss: 0.310153\n",
      "[300]\ttraining's binary_logloss: 0.299558\tvalid_1's binary_logloss: 0.301769\n",
      "[400]\ttraining's binary_logloss: 0.292205\tvalid_1's binary_logloss: 0.295136\n",
      "[500]\ttraining's binary_logloss: 0.2861\tvalid_1's binary_logloss: 0.289764\n",
      "[600]\ttraining's binary_logloss: 0.280375\tvalid_1's binary_logloss: 0.284826\n",
      "[700]\ttraining's binary_logloss: 0.275289\tvalid_1's binary_logloss: 0.280435\n",
      "[800]\ttraining's binary_logloss: 0.270623\tvalid_1's binary_logloss: 0.276409\n",
      "[900]\ttraining's binary_logloss: 0.266353\tvalid_1's binary_logloss: 0.27273\n",
      "[1000]\ttraining's binary_logloss: 0.262095\tvalid_1's binary_logloss: 0.269013\n",
      "Fold 1 Optimal Threshold: 0.3000\n",
      "Fold 1 F1 Score: 0.62929\n",
      "\n",
      "======= Fold 2/5 =======\n",
      "[100]\ttraining's binary_logloss: 0.320552\tvalid_1's binary_logloss: 0.321396\n",
      "[200]\ttraining's binary_logloss: 0.308789\tvalid_1's binary_logloss: 0.310594\n",
      "[300]\ttraining's binary_logloss: 0.299452\tvalid_1's binary_logloss: 0.302062\n",
      "[400]\ttraining's binary_logloss: 0.292555\tvalid_1's binary_logloss: 0.295992\n",
      "[500]\ttraining's binary_logloss: 0.285731\tvalid_1's binary_logloss: 0.28983\n",
      "[600]\ttraining's binary_logloss: 0.280301\tvalid_1's binary_logloss: 0.285082\n",
      "[700]\ttraining's binary_logloss: 0.275189\tvalid_1's binary_logloss: 0.280657\n",
      "[800]\ttraining's binary_logloss: 0.27037\tvalid_1's binary_logloss: 0.276409\n",
      "[900]\ttraining's binary_logloss: 0.265919\tvalid_1's binary_logloss: 0.272576\n",
      "[1000]\ttraining's binary_logloss: 0.261842\tvalid_1's binary_logloss: 0.269059\n",
      "Fold 2 Optimal Threshold: 0.3000\n",
      "Fold 2 F1 Score: 0.62908\n",
      "\n",
      "======= Fold 3/5 =======\n",
      "[100]\ttraining's binary_logloss: 0.321463\tvalid_1's binary_logloss: 0.32206\n",
      "[200]\ttraining's binary_logloss: 0.309088\tvalid_1's binary_logloss: 0.310552\n",
      "[300]\ttraining's binary_logloss: 0.299969\tvalid_1's binary_logloss: 0.302171\n",
      "[400]\ttraining's binary_logloss: 0.292845\tvalid_1's binary_logloss: 0.295724\n",
      "[500]\ttraining's binary_logloss: 0.28603\tvalid_1's binary_logloss: 0.289579\n",
      "[600]\ttraining's binary_logloss: 0.280624\tvalid_1's binary_logloss: 0.284867\n",
      "[700]\ttraining's binary_logloss: 0.275786\tvalid_1's binary_logloss: 0.2806\n",
      "[800]\ttraining's binary_logloss: 0.270825\tvalid_1's binary_logloss: 0.276213\n",
      "[900]\ttraining's binary_logloss: 0.266699\tvalid_1's binary_logloss: 0.272677\n",
      "[1000]\ttraining's binary_logloss: 0.262206\tvalid_1's binary_logloss: 0.268715\n",
      "Fold 3 Optimal Threshold: 0.3000\n",
      "Fold 3 F1 Score: 0.63092\n",
      "\n",
      "======= Fold 4/5 =======\n",
      "[100]\ttraining's binary_logloss: 0.32082\tvalid_1's binary_logloss: 0.321612\n",
      "[200]\ttraining's binary_logloss: 0.308599\tvalid_1's binary_logloss: 0.310438\n",
      "[300]\ttraining's binary_logloss: 0.299965\tvalid_1's binary_logloss: 0.302662\n",
      "[400]\ttraining's binary_logloss: 0.292636\tvalid_1's binary_logloss: 0.296032\n",
      "[500]\ttraining's binary_logloss: 0.286019\tvalid_1's binary_logloss: 0.29012\n",
      "[600]\ttraining's binary_logloss: 0.280475\tvalid_1's binary_logloss: 0.285272\n",
      "[700]\ttraining's binary_logloss: 0.275309\tvalid_1's binary_logloss: 0.280751\n",
      "[800]\ttraining's binary_logloss: 0.270773\tvalid_1's binary_logloss: 0.27686\n",
      "[900]\ttraining's binary_logloss: 0.266605\tvalid_1's binary_logloss: 0.273325\n",
      "[1000]\ttraining's binary_logloss: 0.262902\tvalid_1's binary_logloss: 0.270153\n",
      "Fold 4 Optimal Threshold: 0.3000\n",
      "Fold 4 F1 Score: 0.62682\n",
      "\n",
      "======= Fold 5/5 =======\n",
      "[100]\ttraining's binary_logloss: 0.320476\tvalid_1's binary_logloss: 0.321724\n",
      "[200]\ttraining's binary_logloss: 0.308734\tvalid_1's binary_logloss: 0.310884\n",
      "[300]\ttraining's binary_logloss: 0.299662\tvalid_1's binary_logloss: 0.302536\n",
      "[400]\ttraining's binary_logloss: 0.291856\tvalid_1's binary_logloss: 0.295447\n",
      "[500]\ttraining's binary_logloss: 0.285624\tvalid_1's binary_logloss: 0.289904\n",
      "[600]\ttraining's binary_logloss: 0.280185\tvalid_1's binary_logloss: 0.285092\n",
      "[700]\ttraining's binary_logloss: 0.274987\tvalid_1's binary_logloss: 0.280535\n",
      "[800]\ttraining's binary_logloss: 0.270217\tvalid_1's binary_logloss: 0.276345\n",
      "[900]\ttraining's binary_logloss: 0.265797\tvalid_1's binary_logloss: 0.272409\n",
      "[1000]\ttraining's binary_logloss: 0.261869\tvalid_1's binary_logloss: 0.269067\n",
      "Fold 5 Optimal Threshold: 0.3000\n",
      "Fold 5 F1 Score: 0.63091\n",
      "CPU times: user 44min 23s, sys: 3.8 s, total: 44min 27s\n",
      "Wall time: 5min 47s\n"
     ]
    }
   ],
   "source": [
    "%%time\n",
    "# 6. F1阈值优化函数\n",
    "def find_optimal_threshold(y_true, y_pred_proba):\n",
    "    \"\"\"寻找最大化F1分数的阈值\"\"\"\n",
    "    best_threshold = 0.5\n",
    "    best_f1 = 0\n",
    "    \n",
    "    for threshold in [0.1,0.15,0.2,0.25,0.3,0.35,0.4]:\n",
    "        y_pred = (y_pred_proba >= threshold).astype(int)\n",
    "        f1 = f1_score(y_true, y_pred)\n",
    "        if f1 > best_f1:\n",
    "            best_f1 = f1\n",
    "            best_threshold = threshold\n",
    "    \n",
    "    return best_threshold, best_f1\n",
    "\n",
    "# 7. 模型训练与交叉验证\n",
    "import time\n",
    "# 动态生成随机种子（基于当前时间）\n",
    "seed = int(time.time()) % 1000000  # 取当前时间戳模一个数，避免太大\n",
    "params = {\n",
    "    'objective': 'binary',\n",
    "    'metric': 'binary_logloss',\n",
    "    'max_depth': '12',\n",
    "    'num_leaves': 63,\n",
    "    'learning_rate': 0.1,\n",
    "    'feature_fraction': 0.7,\n",
    "    'bagging_fraction': 0.8,\n",
    "    'bagging_freq': 5,\n",
    "    'min_child_samples': 10,\n",
    "    'verbose': -1,\n",
    "    'n_jobs':8,\n",
    "    'seed': seed  # 使用动态生成的 seed\n",
    "}\n",
    "\n",
    "# 五折交叉验证，使用五折构建特征时的切分规则，保证切分一致\n",
    "n_folds = 5\n",
    "kf = StratifiedKFold(n_splits=n_folds, shuffle=True, random_state=42)\n",
    "test_preds = np.zeros(len(X_test))\n",
    "fold_thresholds = []\n",
    "fold_f1_scores = []\n",
    "models = []\n",
    "oof_preds = np.zeros(len(X_train))\n",
    "oof_probas = np.zeros(len(X_train))\n",
    "\n",
    "print(\"\\n开始模型训练...\")\n",
    "for fold, (train_idx, val_idx) in enumerate(kf.split(X_train, y_train)):\n",
    "    print(f\"\\n======= Fold {fold+1}/{n_folds} =======\")\n",
    "    X_tr, X_val = X_train.iloc[train_idx], X_train.iloc[val_idx]\n",
    "    y_tr, y_val = y_train.iloc[train_idx], y_train.iloc[val_idx]\n",
    "    \n",
    "    # 创建数据集（指定类别特征）\n",
    "    train_set = lgb.Dataset(X_tr, label=y_tr)\n",
    "    val_set = lgb.Dataset(X_val, label=y_val)\n",
    "    \n",
    "    # 模型训练\n",
    "    model = lgb.train(\n",
    "        params,train_set,\n",
    "        num_boost_round=1000,\n",
    "        valid_sets=[train_set, val_set],\n",
    "        callbacks=[\n",
    "            lgb.early_stopping(stopping_rounds=50, verbose=False),\n",
    "            lgb.log_evaluation(period=100)\n",
    "        ]\n",
    "    )\n",
    "    models.append(model)\n",
    "    \n",
    "    # 验证集预测\n",
    "    val_pred_proba = model.predict(X_val)\n",
    "    oof_probas[val_idx] = val_pred_proba\n",
    "    \n",
    "    # 阈值优化\n",
    "    best_threshold, best_f1 = find_optimal_threshold(y_val, val_pred_proba)\n",
    "    fold_thresholds.append(best_threshold)\n",
    "    \n",
    "    # 使用优化阈值计算F1\n",
    "    val_pred_labels = (val_pred_proba >= best_threshold).astype(int)\n",
    "    fold_f1 = f1_score(y_val, val_pred_labels)\n",
    "    fold_f1_scores.append(fold_f1)\n",
    "    oof_preds[val_idx] = val_pred_labels\n",
    "    \n",
    "    print(f\"Fold {fold+1} Optimal Threshold: {best_threshold:.4f}\")\n",
    "    print(f\"Fold {fold+1} F1 Score: {fold_f1:.5f}\")\n",
    "    \n",
    "    # 测试集预测\n",
    "    test_preds += model.predict(X_test) / n_folds"
   ]
  },
  {
   "cell_type": "code",
   "execution_count": 8,
   "id": "f6ec864a-519c-477b-93a6-0c5649d9d655",
   "metadata": {
    "execution": {
     "iopub.execute_input": "2025-07-07T07:55:22.983382Z",
     "iopub.status.busy": "2025-07-07T07:55:22.982982Z",
     "iopub.status.idle": "2025-07-07T07:55:24.624086Z",
     "shell.execute_reply": "2025-07-07T07:55:24.623613Z",
     "shell.execute_reply.started": "2025-07-07T07:55:22.983349Z"
    },
    "tags": []
   },
   "outputs": [
    {
     "name": "stdout",
     "output_type": "stream",
     "text": [
      "\n",
      "===== Final Results =====\n",
      "Average Optimal Threshold: 0.3000\n",
      "Fold F1 Scores: ['0.62929', '0.62908', '0.63092', '0.62682', '0.63091']\n",
      "Average Fold F1: 0.62940\n",
      "OOF F1 Score: 0.62941\n",
      "\n",
      "Submission file saved: submit.csv\n",
      "Predicted new user ratio: 0.1484\n",
      "Test set size: 1143309\n",
      "\n",
      "Top 10 Features:\n",
      "            Feature     Importance\n",
      "8            appver  615081.677065\n",
      "0               mid  611828.463987\n",
      "15        common_ts  543808.267539\n",
      "9           channel  352274.992779\n",
      "1               eid  337077.254882\n",
      "7       common_city  283131.782740\n",
      "14              day  246377.035303\n",
      "6   common_province  205464.254649\n",
      "2      device_brand  203953.317715\n",
      "12             hour  199174.725794\n"
     ]
    }
   ],
   "source": [
    "# 8. 整体结果评估\n",
    "# 使用交叉验证平均阈值\n",
    "avg_threshold = np.mean(fold_thresholds)\n",
    "final_oof_preds = (oof_probas >= avg_threshold).astype(int)\n",
    "final_f1 = f1_score(y_train, final_oof_preds)\n",
    "\n",
    "print(\"\\n===== Final Results =====\")\n",
    "print(f\"Average Optimal Threshold: {avg_threshold:.4f}\")\n",
    "print(f\"Fold F1 Scores: {[f'{s:.5f}' for s in fold_f1_scores]}\")\n",
    "print(f\"Average Fold F1: {np.mean(fold_f1_scores):.5f}\")\n",
    "print(f\"OOF F1 Score: {final_f1:.5f}\")\n",
    "\n",
    "# 9. 测试集预测与提交文件生成\n",
    "# 使用平均阈值进行预测\n",
    "test_pred_labels = (test_preds >= avg_threshold).astype(int)\n",
    "submit['is_new_did'] = test_pred_labels\n",
    "\n",
    "# 保存提交文件\n",
    "submit[['is_new_did']].to_csv('submit.csv', index=False)\n",
    "print(\"\\nSubmission file saved: submit.csv\")\n",
    "print(f\"Predicted new user ratio: {test_pred_labels.mean():.4f}\")\n",
    "print(f\"Test set size: {len(test_pred_labels)}\")\n",
    "\n",
    "# 10. 特征重要性分析\n",
    "feature_importance = pd.DataFrame({\n",
    "    'Feature': features,\n",
    "    'Importance': models[0].feature_importance(importance_type='gain')\n",
    "}).sort_values('Importance', ascending=False)\n",
    "\n",
    "print(\"\\nTop 10 Features:\")\n",
    "print(feature_importance.head(10))"
   ]
  },
  {
   "cell_type": "code",
   "execution_count": null,
   "id": "ecfdd3a8-4df6-428d-971e-646c62efd18a",
   "metadata": {},
   "outputs": [],
   "source": []
  },
  {
   "cell_type": "code",
   "execution_count": null,
   "id": "ec25ece2-2c01-467b-b7c1-d0751c9f6bd4",
   "metadata": {},
   "outputs": [],
   "source": []
  },
  {
   "cell_type": "code",
   "execution_count": null,
   "id": "23cd8ea4-0355-4b81-80dd-1fa90f1e48ad",
   "metadata": {},
   "outputs": [],
   "source": []
  },
  {
   "cell_type": "code",
   "execution_count": null,
   "id": "6cb1132a-963d-4703-90fa-fbb7976547d5",
   "metadata": {},
   "outputs": [],
   "source": []
  }
 ],
 "metadata": {
  "kernelspec": {
   "display_name": "Python 3 (ipykernel)",
   "language": "python",
   "name": "python3"
  },
  "language_info": {
   "codemirror_mode": {
    "name": "ipython",
    "version": 3
   },
   "file_extension": ".py",
   "mimetype": "text/x-python",
   "name": "python",
   "nbconvert_exporter": "python",
   "pygments_lexer": "ipython3",
   "version": "3.11.11"
  }
 },
 "nbformat": 4,
 "nbformat_minor": 5
}
